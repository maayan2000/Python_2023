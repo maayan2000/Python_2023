{
 "cells": [
  {
   "cell_type": "markdown",
   "id": "475fe1a9",
   "metadata": {},
   "source": [
    "# Q1"
   ]
  },
  {
   "cell_type": "code",
   "execution_count": 1,
   "id": "9dc871bf",
   "metadata": {},
   "outputs": [],
   "source": [
    "import json\n",
    "import requests\n",
    "import pandas as pd"
   ]
  },
  {
   "cell_type": "code",
   "execution_count": 2,
   "id": "aba8c5d4",
   "metadata": {},
   "outputs": [],
   "source": [
    "def create_destinations_df(api_key, origin, destinations_file):\n",
    "    # Read in destinations from file\n",
    "    with open(destinations_file, 'r') as f:\n",
    "        destinations = f.read().split('\\n')\n",
    "\n",
    "    # Initialize DataFrame\n",
    "    df = pd.DataFrame(columns=['Target', 'Distance_km', 'Duration (hour+minutes)', 'Longitude', 'Latitude'])\n",
    "\n",
    "    # Get distance and duration\n",
    "    for destination in destinations:\n",
    "        # Get distance and duration from Google Distance Matrix API\n",
    "        url = \"https://maps.googleapis.com/maps/api/distancematrix/json?origins=%s&destinations=%s&key=%s\" % (origin, destination, api_key)\n",
    "        try:\n",
    "            response = requests.get(url)\n",
    "            if not response.status_code == 200:\n",
    "                print(\"HTTP error\", response.status_code)\n",
    "            else:\n",
    "                response_data = response.json()\n",
    "                distance_km = response_data['rows'][0]['elements'][0]['distance']['value'] / 1000\n",
    "                duration_sec = response_data['rows'][0]['elements'][0]['duration']['value']\n",
    "                duration_hours = duration_sec // 3600\n",
    "                duration_minutes = (duration_sec % 3600) // 60\n",
    "                duration_str = f\"{duration_hours}h {duration_minutes}m\"\n",
    "        except requests.exceptions.RequestException as e:\n",
    "            print(\"Error making request:\", e)\n",
    "\n",
    "        # Get latitude and longitude from Google Geocoding API\n",
    "        url = \"https://maps.googleapis.com/maps/api/geocode/json?address=%s&key=%s\" % (destination, api_key)\n",
    "        try:\n",
    "            response = requests.get(url)\n",
    "            if not response.status_code == 200:\n",
    "                print(\"HTTP error\", response.status_code)\n",
    "            else:\n",
    "                response_data = response.json()\n",
    "                lat_lng = response_data['results'][0]['geometry']['location']\n",
    "                latitude = lat_lng['lat']\n",
    "                longitude = lat_lng['lng']\n",
    "        except requests.exceptions.RequestException as e:\n",
    "            print(\"Error making request:\", e)\n",
    "\n",
    "        # Add row to DataFrame --> with 'pd.concat' instead of 'df.append', because this method will be removed from pandas in a future version\n",
    "        new_row = {'Target': destination,\n",
    "                   'Distance_km': distance_km,\n",
    "                   'Duration (hour+minutes)': duration_str,\n",
    "                   'Longitude': longitude,\n",
    "                   'Latitude': latitude}\n",
    "        df = pd.concat([df, pd.DataFrame(new_row, index=[0])], ignore_index=True)\n",
    "\n",
    "\n",
    "    return df\n"
   ]
  },
  {
   "cell_type": "code",
   "execution_count": 3,
   "id": "4d9afa63",
   "metadata": {},
   "outputs": [],
   "source": [
    "api_key = \"API_KEY\"\n",
    "origin = \"Tel Aviv, Israel\"\n",
    "destinations_file = \"dests.txt\""
   ]
  },
  {
   "cell_type": "markdown",
   "id": "82d417ef",
   "metadata": {},
   "source": [
    "# Q2"
   ]
  },
  {
   "cell_type": "code",
   "execution_count": 4,
   "id": "16c5598b",
   "metadata": {},
   "outputs": [
    {
     "data": {
      "text/html": [
       "<div>\n",
       "<style scoped>\n",
       "    .dataframe tbody tr th:only-of-type {\n",
       "        vertical-align: middle;\n",
       "    }\n",
       "\n",
       "    .dataframe tbody tr th {\n",
       "        vertical-align: top;\n",
       "    }\n",
       "\n",
       "    .dataframe thead th {\n",
       "        text-align: right;\n",
       "    }\n",
       "</style>\n",
       "<table border=\"1\" class=\"dataframe\">\n",
       "  <thead>\n",
       "    <tr style=\"text-align: right;\">\n",
       "      <th></th>\n",
       "      <th>Target</th>\n",
       "      <th>Distance_km</th>\n",
       "      <th>Duration (hour+minutes)</th>\n",
       "      <th>Longitude</th>\n",
       "      <th>Latitude</th>\n",
       "    </tr>\n",
       "  </thead>\n",
       "  <tbody>\n",
       "    <tr>\n",
       "      <th>0</th>\n",
       "      <td>Istanbul</td>\n",
       "      <td>1815.227</td>\n",
       "      <td>21h 2m</td>\n",
       "      <td>28.978359</td>\n",
       "      <td>41.008238</td>\n",
       "    </tr>\n",
       "    <tr>\n",
       "      <th>1</th>\n",
       "      <td>Amsterdam</td>\n",
       "      <td>4532.541</td>\n",
       "      <td>48h 3m</td>\n",
       "      <td>4.904139</td>\n",
       "      <td>52.367573</td>\n",
       "    </tr>\n",
       "    <tr>\n",
       "      <th>2</th>\n",
       "      <td>Valletta</td>\n",
       "      <td>3792.883</td>\n",
       "      <td>50h 50m</td>\n",
       "      <td>14.514100</td>\n",
       "      <td>35.899237</td>\n",
       "    </tr>\n",
       "    <tr>\n",
       "      <th>3</th>\n",
       "      <td>Basel</td>\n",
       "      <td>4092.805</td>\n",
       "      <td>44h 2m</td>\n",
       "      <td>7.588576</td>\n",
       "      <td>47.559599</td>\n",
       "    </tr>\n",
       "    <tr>\n",
       "      <th>4</th>\n",
       "      <td>Doha</td>\n",
       "      <td>2164.477</td>\n",
       "      <td>22h 38m</td>\n",
       "      <td>51.531040</td>\n",
       "      <td>25.285447</td>\n",
       "    </tr>\n",
       "  </tbody>\n",
       "</table>\n",
       "</div>"
      ],
      "text/plain": [
       "      Target  Distance_km Duration (hour+minutes)  Longitude   Latitude\n",
       "0   Istanbul     1815.227                  21h 2m  28.978359  41.008238\n",
       "1  Amsterdam     4532.541                  48h 3m   4.904139  52.367573\n",
       "2   Valletta     3792.883                 50h 50m  14.514100  35.899237\n",
       "3      Basel     4092.805                  44h 2m   7.588576  47.559599\n",
       "4       Doha     2164.477                 22h 38m  51.531040  25.285447"
      ]
     },
     "execution_count": 4,
     "metadata": {},
     "output_type": "execute_result"
    }
   ],
   "source": [
    "df = create_destinations_df(api_key, origin, destinations_file)\n",
    "df"
   ]
  },
  {
   "cell_type": "markdown",
   "id": "dfc03d8b",
   "metadata": {},
   "source": [
    "# Q3"
   ]
  },
  {
   "cell_type": "code",
   "execution_count": 5,
   "id": "f117251e",
   "metadata": {},
   "outputs": [
    {
     "data": {
      "text/plain": [
       "1    Amsterdam\n",
       "3        Basel\n",
       "2     Valletta\n",
       "Name: Target, dtype: object"
      ]
     },
     "execution_count": 5,
     "metadata": {},
     "output_type": "execute_result"
    }
   ],
   "source": [
    "df_sorted = df.sort_values(by='Distance_km', ascending=False)\n",
    "furthest_cities = df_sorted.head(3)['Target']\n",
    "furthest_cities"
   ]
  }
 ],
 "metadata": {
  "kernelspec": {
   "display_name": "Python 3 (ipykernel)",
   "language": "python",
   "name": "python3"
  },
  "language_info": {
   "codemirror_mode": {
    "name": "ipython",
    "version": 3
   },
   "file_extension": ".py",
   "mimetype": "text/x-python",
   "name": "python",
   "nbconvert_exporter": "python",
   "pygments_lexer": "ipython3",
   "version": "3.10.9"
  }
 },
 "nbformat": 4,
 "nbformat_minor": 5
}
